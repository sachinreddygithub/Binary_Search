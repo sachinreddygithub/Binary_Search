{
  "nbformat": 4,
  "nbformat_minor": 0,
  "metadata": {
    "colab": {
      "provenance": [],
      "authorship_tag": "ABX9TyMN4bA5Q3+y9kn307pDlQTM",
      "include_colab_link": true
    },
    "kernelspec": {
      "name": "python3",
      "display_name": "Python 3"
    },
    "language_info": {
      "name": "python"
    }
  },
  "cells": [
    {
      "cell_type": "markdown",
      "metadata": {
        "id": "view-in-github",
        "colab_type": "text"
      },
      "source": [
        "<a href=\"https://colab.research.google.com/github/sachinreddygithub/Binary_Search/blob/main/Binary_Search.ipynb\" target=\"_parent\"><img src=\"https://colab.research.google.com/assets/colab-badge.svg\" alt=\"Open In Colab\"/></a>"
      ]
    },
    {
      "cell_type": "markdown",
      "source": [
        "# **How Exactly the Binary Search Wil works..**"
      ],
      "metadata": {
        "id": "bAZ-Ov72oRzN"
      }
    },
    {
      "cell_type": "markdown",
      "source": [
        "# ***Binary Search***"
      ],
      "metadata": {
        "id": "tzlMTsJkoEEo"
      }
    },
    {
      "cell_type": "code",
      "execution_count": 1,
      "metadata": {
        "colab": {
          "base_uri": "https://localhost:8080/"
        },
        "id": "BJXyzOmen5Vm",
        "outputId": "190f7b46-0fe6-456c-8769-ce36504018aa"
      },
      "outputs": [
        {
          "output_type": "stream",
          "name": "stdout",
          "text": [
            "the target found at the index no  : 4\n"
          ]
        }
      ],
      "source": [
        "def binary_search(arr, target):  # function\n",
        "    start=0                     \n",
        "    end=len(arr)-1               # range (0,-1) or complete array\n",
        "\n",
        "    while start<=end:            #loops until get target value or  through empty array\n",
        "        mid=(start+end)//2       # a+b//2 formula to divide the 2 values to get mid value\n",
        "        if arr[mid]== target:    # if mid index(value)= to target then it returns search was sucessfull\n",
        "            return mid\n",
        "        elif arr[mid] < target:  # if mid value greater than target then move with right half.applys same formula \n",
        "            start=mid+1\n",
        "        else:                    # if mid value small move with left half search and discards right half\n",
        "            end=mid-1\n",
        "    return-1                    #if seach not found returns -1\n",
        "\n",
        "\n",
        "# Let's try wih an example\n",
        "\n",
        "ab=[11,22,33,44,55,66,77,88]  # array\n",
        "ac=55                         # target\n",
        "ad=binary_search(ab,ac)       # variable to store my defined above function\n",
        "print(\"the target found at the index no  :\" ,ad)"
      ]
    },
    {
      "cell_type": "markdown",
      "source": [
        "# ***Binary search is a searching algorithm that works by repeatedly dividing the search interval in half. It starts by comparing the target value to the middle element of the sorted array. If the target value matches the middle element, the search is successful. If the target value is greater than the middle element, the search continues on the right half of the array. If the target value is smaller than the middle element, the search continues on the left half of the array. This process continues until the target value is found or there are no more elements left to search.***"
      ],
      "metadata": {
        "id": "6k7pWHX9p4bK"
      }
    }
  ]
}